{
 "cells": [
  {
   "cell_type": "markdown",
   "id": "ea3b32a7",
   "metadata": {
    "papermill": {
     "duration": 0.00546,
     "end_time": "2025-04-19T19:45:35.622038",
     "exception": false,
     "start_time": "2025-04-19T19:45:35.616578",
     "status": "completed"
    },
    "tags": []
   },
   "source": [
    "**This notebook is an exercise in the [Pandas](https://www.kaggle.com/learn/pandas) course.  You can reference the tutorial at [this link](https://www.kaggle.com/residentmario/grouping-and-sorting).**\n",
    "\n",
    "---\n"
   ]
  },
  {
   "cell_type": "markdown",
   "id": "5c62d829",
   "metadata": {
    "papermill": {
     "duration": 0.004104,
     "end_time": "2025-04-19T19:45:35.630833",
     "exception": false,
     "start_time": "2025-04-19T19:45:35.626729",
     "status": "completed"
    },
    "tags": []
   },
   "source": [
    "# Introduction\n",
    "\n",
    "In these exercises we'll apply groupwise analysis to our dataset.\n",
    "\n",
    "Run the code cell below to load the data before running the exercises."
   ]
  },
  {
   "cell_type": "code",
   "execution_count": 1,
   "id": "7a68d4b0",
   "metadata": {
    "execution": {
     "iopub.execute_input": "2025-04-19T19:45:35.641094Z",
     "iopub.status.busy": "2025-04-19T19:45:35.640755Z",
     "iopub.status.idle": "2025-04-19T19:45:41.232789Z",
     "shell.execute_reply": "2025-04-19T19:45:41.231394Z"
    },
    "papermill": {
     "duration": 5.599508,
     "end_time": "2025-04-19T19:45:41.234706",
     "exception": false,
     "start_time": "2025-04-19T19:45:35.635198",
     "status": "completed"
    },
    "tags": []
   },
   "outputs": [
    {
     "name": "stdout",
     "output_type": "stream",
     "text": [
      "Setup complete.\n"
     ]
    },
    {
     "name": "stderr",
     "output_type": "stream",
     "text": [
      "/usr/local/lib/python3.11/dist-packages/learntools/pandas/grouping_and_sorting.py:29: FutureWarning: The provided callable <built-in function min> is currently using SeriesGroupBy.min. In a future version of pandas, the provided callable will be used directly. To keep current behavior pass the string \"min\" instead.\n",
      "  _expected = reviews.groupby('variety').price.agg([min, max])\n",
      "/usr/local/lib/python3.11/dist-packages/learntools/pandas/grouping_and_sorting.py:29: FutureWarning: The provided callable <built-in function max> is currently using SeriesGroupBy.max. In a future version of pandas, the provided callable will be used directly. To keep current behavior pass the string \"max\" instead.\n",
      "  _expected = reviews.groupby('variety').price.agg([min, max])\n",
      "/usr/local/lib/python3.11/dist-packages/learntools/pandas/grouping_and_sorting.py:35: FutureWarning: The provided callable <built-in function min> is currently using SeriesGroupBy.min. In a future version of pandas, the provided callable will be used directly. To keep current behavior pass the string \"min\" instead.\n",
      "  _expected = reviews.groupby('variety').price.agg([min, max]).sort_values(by=['min', 'max'], ascending=False)\n",
      "/usr/local/lib/python3.11/dist-packages/learntools/pandas/grouping_and_sorting.py:35: FutureWarning: The provided callable <built-in function max> is currently using SeriesGroupBy.max. In a future version of pandas, the provided callable will be used directly. To keep current behavior pass the string \"max\" instead.\n",
      "  _expected = reviews.groupby('variety').price.agg([min, max]).sort_values(by=['min', 'max'], ascending=False)\n"
     ]
    }
   ],
   "source": [
    "import pandas as pd\n",
    "\n",
    "reviews = pd.read_csv(\"../input/wine-reviews/winemag-data-130k-v2.csv\", index_col=0)\n",
    "#pd.set_option(\"display.max_rows\", 5)\n",
    "\n",
    "from learntools.core import binder; binder.bind(globals())\n",
    "from learntools.pandas.grouping_and_sorting import *\n",
    "print(\"Setup complete.\")"
   ]
  },
  {
   "cell_type": "markdown",
   "id": "4e47d57e",
   "metadata": {
    "papermill": {
     "duration": 0.004567,
     "end_time": "2025-04-19T19:45:41.244402",
     "exception": false,
     "start_time": "2025-04-19T19:45:41.239835",
     "status": "completed"
    },
    "tags": []
   },
   "source": [
    "# Exercises"
   ]
  },
  {
   "cell_type": "markdown",
   "id": "a228c787",
   "metadata": {
    "papermill": {
     "duration": 0.004115,
     "end_time": "2025-04-19T19:45:41.253147",
     "exception": false,
     "start_time": "2025-04-19T19:45:41.249032",
     "status": "completed"
    },
    "tags": []
   },
   "source": [
    "## 1.\n",
    "Who are the most common wine reviewers in the dataset? Create a `Series` whose index is the `taster_twitter_handle` category from the dataset, and whose values count how many reviews each person wrote."
   ]
  },
  {
   "cell_type": "code",
   "execution_count": 2,
   "id": "d3c42cb4",
   "metadata": {
    "execution": {
     "iopub.execute_input": "2025-04-19T19:45:41.263684Z",
     "iopub.status.busy": "2025-04-19T19:45:41.263314Z",
     "iopub.status.idle": "2025-04-19T19:45:41.291184Z",
     "shell.execute_reply": "2025-04-19T19:45:41.290233Z"
    },
    "papermill": {
     "duration": 0.03523,
     "end_time": "2025-04-19T19:45:41.292851",
     "exception": false,
     "start_time": "2025-04-19T19:45:41.257621",
     "status": "completed"
    },
    "tags": []
   },
   "outputs": [
    {
     "data": {
      "application/javascript": [
       "parent.postMessage({\"jupyterEvent\": \"custom.exercise_interaction\", \"data\": {\"outcomeType\": 1, \"valueTowardsCompletion\": 0.16666666666666666, \"interactionType\": 1, \"questionType\": 1, \"questionId\": \"1_ReviewsWritten\", \"learnToolsVersion\": \"0.3.5\", \"failureMessage\": \"\", \"exceptionClass\": \"\", \"trace\": \"\"}}, \"*\")"
      ],
      "text/plain": [
       "<IPython.core.display.Javascript object>"
      ]
     },
     "metadata": {},
     "output_type": "display_data"
    },
    {
     "data": {
      "text/markdown": [
       "<span style=\"color:#33cc33\">Correct:</span> \n",
       "\n",
       "\n",
       "```python\n",
       "reviews_written = reviews.groupby('taster_twitter_handle').size()\n",
       "```\n",
       "or\n",
       "```python\n",
       "reviews_written = reviews.groupby('taster_twitter_handle').taster_twitter_handle.count()\n",
       "```\n"
      ],
      "text/plain": [
       "Correct: \n",
       "\n",
       "\n",
       "```python\n",
       "reviews_written = reviews.groupby('taster_twitter_handle').size()\n",
       "```\n",
       "or\n",
       "```python\n",
       "reviews_written = reviews.groupby('taster_twitter_handle').taster_twitter_handle.count()\n",
       "```"
      ]
     },
     "metadata": {},
     "output_type": "display_data"
    }
   ],
   "source": [
    "\n",
    "# Your code here\n",
    "reviews_written = reviews.groupby('taster_twitter_handle').taster_twitter_handle.count()\n",
    "\n",
    "# Check your answer\n",
    "q1.check()"
   ]
  },
  {
   "cell_type": "code",
   "execution_count": 3,
   "id": "466922f8",
   "metadata": {
    "execution": {
     "iopub.execute_input": "2025-04-19T19:45:41.304218Z",
     "iopub.status.busy": "2025-04-19T19:45:41.303890Z",
     "iopub.status.idle": "2025-04-19T19:45:41.308286Z",
     "shell.execute_reply": "2025-04-19T19:45:41.307281Z"
    },
    "papermill": {
     "duration": 0.012108,
     "end_time": "2025-04-19T19:45:41.310089",
     "exception": false,
     "start_time": "2025-04-19T19:45:41.297981",
     "status": "completed"
    },
    "tags": []
   },
   "outputs": [],
   "source": [
    "#q1.hint()\n",
    "#q1.solution()"
   ]
  },
  {
   "cell_type": "markdown",
   "id": "342fda5c",
   "metadata": {
    "papermill": {
     "duration": 0.004739,
     "end_time": "2025-04-19T19:45:41.320301",
     "exception": false,
     "start_time": "2025-04-19T19:45:41.315562",
     "status": "completed"
    },
    "tags": []
   },
   "source": [
    "## 2.\n",
    "What is the best wine I can buy for a given amount of money? Create a `Series` whose index is wine prices and whose values is the maximum number of points a wine costing that much was given in a review. Sort the values by price, ascending (so that `4.0` dollars is at the top and `3300.0` dollars is at the bottom)."
   ]
  },
  {
   "cell_type": "code",
   "execution_count": 4,
   "id": "fe61d988",
   "metadata": {
    "execution": {
     "iopub.execute_input": "2025-04-19T19:45:41.331839Z",
     "iopub.status.busy": "2025-04-19T19:45:41.331450Z",
     "iopub.status.idle": "2025-04-19T19:45:41.344669Z",
     "shell.execute_reply": "2025-04-19T19:45:41.343630Z"
    },
    "papermill": {
     "duration": 0.02136,
     "end_time": "2025-04-19T19:45:41.346592",
     "exception": false,
     "start_time": "2025-04-19T19:45:41.325232",
     "status": "completed"
    },
    "tags": []
   },
   "outputs": [
    {
     "data": {
      "text/plain": [
       "price\n",
       "4.0       86\n",
       "5.0       87\n",
       "6.0       88\n",
       "7.0       91\n",
       "8.0       91\n",
       "          ..\n",
       "1900.0    98\n",
       "2000.0    97\n",
       "2013.0    91\n",
       "2500.0    96\n",
       "3300.0    88\n",
       "Name: points, Length: 390, dtype: int64"
      ]
     },
     "execution_count": 4,
     "metadata": {},
     "output_type": "execute_result"
    }
   ],
   "source": [
    "reviews.groupby('price').points.max()"
   ]
  },
  {
   "cell_type": "code",
   "execution_count": 5,
   "id": "8e0da66a",
   "metadata": {
    "execution": {
     "iopub.execute_input": "2025-04-19T19:45:41.358289Z",
     "iopub.status.busy": "2025-04-19T19:45:41.357888Z",
     "iopub.status.idle": "2025-04-19T19:45:41.372132Z",
     "shell.execute_reply": "2025-04-19T19:45:41.371226Z"
    },
    "papermill": {
     "duration": 0.022098,
     "end_time": "2025-04-19T19:45:41.373836",
     "exception": false,
     "start_time": "2025-04-19T19:45:41.351738",
     "status": "completed"
    },
    "tags": []
   },
   "outputs": [
    {
     "data": {
      "application/javascript": [
       "parent.postMessage({\"jupyterEvent\": \"custom.exercise_interaction\", \"data\": {\"outcomeType\": 1, \"valueTowardsCompletion\": 0.16666666666666666, \"interactionType\": 1, \"questionType\": 1, \"questionId\": \"2_BestRatingPerPrice\", \"learnToolsVersion\": \"0.3.5\", \"failureMessage\": \"\", \"exceptionClass\": \"\", \"trace\": \"\"}}, \"*\")"
      ],
      "text/plain": [
       "<IPython.core.display.Javascript object>"
      ]
     },
     "metadata": {},
     "output_type": "display_data"
    },
    {
     "data": {
      "text/markdown": [
       "<span style=\"color:#33cc33\">Correct</span>"
      ],
      "text/plain": [
       "Correct"
      ]
     },
     "metadata": {},
     "output_type": "display_data"
    }
   ],
   "source": [
    "best_rating_per_price = reviews.groupby('price').points.max()\n",
    "\n",
    "# Check your answer\n",
    "q2.check()"
   ]
  },
  {
   "cell_type": "code",
   "execution_count": 6,
   "id": "d67650c3",
   "metadata": {
    "execution": {
     "iopub.execute_input": "2025-04-19T19:45:41.385952Z",
     "iopub.status.busy": "2025-04-19T19:45:41.385636Z",
     "iopub.status.idle": "2025-04-19T19:45:41.389706Z",
     "shell.execute_reply": "2025-04-19T19:45:41.388761Z"
    },
    "papermill": {
     "duration": 0.011999,
     "end_time": "2025-04-19T19:45:41.391329",
     "exception": false,
     "start_time": "2025-04-19T19:45:41.379330",
     "status": "completed"
    },
    "tags": []
   },
   "outputs": [],
   "source": [
    "#q2.hint()\n",
    "#q2.solution()"
   ]
  },
  {
   "cell_type": "markdown",
   "id": "178fd65e",
   "metadata": {
    "papermill": {
     "duration": 0.004667,
     "end_time": "2025-04-19T19:45:41.401147",
     "exception": false,
     "start_time": "2025-04-19T19:45:41.396480",
     "status": "completed"
    },
    "tags": []
   },
   "source": [
    "## 3.\n",
    "What are the minimum and maximum prices for each `variety` of wine? Create a `DataFrame` whose index is the `variety` category from the dataset and whose values are the `min` and `max` values thereof."
   ]
  },
  {
   "cell_type": "code",
   "execution_count": 7,
   "id": "7dbfaf58",
   "metadata": {
    "execution": {
     "iopub.execute_input": "2025-04-19T19:45:41.412442Z",
     "iopub.status.busy": "2025-04-19T19:45:41.412069Z",
     "iopub.status.idle": "2025-04-19T19:45:41.438114Z",
     "shell.execute_reply": "2025-04-19T19:45:41.437026Z"
    },
    "papermill": {
     "duration": 0.033864,
     "end_time": "2025-04-19T19:45:41.439854",
     "exception": false,
     "start_time": "2025-04-19T19:45:41.405990",
     "status": "completed"
    },
    "tags": []
   },
   "outputs": [
    {
     "name": "stderr",
     "output_type": "stream",
     "text": [
      "/tmp/ipykernel_13/4085108108.py:1: FutureWarning: The provided callable <built-in function min> is currently using SeriesGroupBy.min. In a future version of pandas, the provided callable will be used directly. To keep current behavior pass the string \"min\" instead.\n",
      "  price_extremes = reviews.groupby('variety').price.agg([min, max])\n",
      "/tmp/ipykernel_13/4085108108.py:1: FutureWarning: The provided callable <built-in function max> is currently using SeriesGroupBy.max. In a future version of pandas, the provided callable will be used directly. To keep current behavior pass the string \"max\" instead.\n",
      "  price_extremes = reviews.groupby('variety').price.agg([min, max])\n"
     ]
    },
    {
     "data": {
      "application/javascript": [
       "parent.postMessage({\"jupyterEvent\": \"custom.exercise_interaction\", \"data\": {\"outcomeType\": 1, \"valueTowardsCompletion\": 0.16666666666666666, \"interactionType\": 1, \"questionType\": 1, \"questionId\": \"3_PriceExtremes\", \"learnToolsVersion\": \"0.3.5\", \"failureMessage\": \"\", \"exceptionClass\": \"\", \"trace\": \"\"}}, \"*\")"
      ],
      "text/plain": [
       "<IPython.core.display.Javascript object>"
      ]
     },
     "metadata": {},
     "output_type": "display_data"
    },
    {
     "data": {
      "text/markdown": [
       "<span style=\"color:#33cc33\">Correct</span>"
      ],
      "text/plain": [
       "Correct"
      ]
     },
     "metadata": {},
     "output_type": "display_data"
    }
   ],
   "source": [
    "price_extremes = reviews.groupby('variety').price.agg([min, max])\n",
    "\n",
    "# Check your answer\n",
    "q3.check()"
   ]
  },
  {
   "cell_type": "code",
   "execution_count": 8,
   "id": "0b6e1571",
   "metadata": {
    "execution": {
     "iopub.execute_input": "2025-04-19T19:45:41.452226Z",
     "iopub.status.busy": "2025-04-19T19:45:41.451849Z",
     "iopub.status.idle": "2025-04-19T19:45:41.456467Z",
     "shell.execute_reply": "2025-04-19T19:45:41.455548Z"
    },
    "papermill": {
     "duration": 0.012526,
     "end_time": "2025-04-19T19:45:41.457882",
     "exception": false,
     "start_time": "2025-04-19T19:45:41.445356",
     "status": "completed"
    },
    "tags": []
   },
   "outputs": [],
   "source": [
    "#q3.hint()\n",
    "#q3.solution()"
   ]
  },
  {
   "cell_type": "markdown",
   "id": "588dea9a",
   "metadata": {
    "papermill": {
     "duration": 0.004885,
     "end_time": "2025-04-19T19:45:41.467929",
     "exception": false,
     "start_time": "2025-04-19T19:45:41.463044",
     "status": "completed"
    },
    "tags": []
   },
   "source": [
    "## 4.\n",
    "What are the most expensive wine varieties? Create a variable `sorted_varieties` containing a copy of the dataframe from the previous question where varieties are sorted in descending order based on minimum price, then on maximum price (to break ties)."
   ]
  },
  {
   "cell_type": "code",
   "execution_count": 9,
   "id": "0f08c8c2",
   "metadata": {
    "execution": {
     "iopub.execute_input": "2025-04-19T19:45:41.480357Z",
     "iopub.status.busy": "2025-04-19T19:45:41.479409Z",
     "iopub.status.idle": "2025-04-19T19:45:41.490155Z",
     "shell.execute_reply": "2025-04-19T19:45:41.489260Z"
    },
    "papermill": {
     "duration": 0.018705,
     "end_time": "2025-04-19T19:45:41.491734",
     "exception": false,
     "start_time": "2025-04-19T19:45:41.473029",
     "status": "completed"
    },
    "tags": []
   },
   "outputs": [
    {
     "data": {
      "application/javascript": [
       "parent.postMessage({\"jupyterEvent\": \"custom.exercise_interaction\", \"data\": {\"outcomeType\": 1, \"valueTowardsCompletion\": 0.16666666666666666, \"interactionType\": 1, \"questionType\": 1, \"questionId\": \"4_SortedVarieties\", \"learnToolsVersion\": \"0.3.5\", \"failureMessage\": \"\", \"exceptionClass\": \"\", \"trace\": \"\"}}, \"*\")"
      ],
      "text/plain": [
       "<IPython.core.display.Javascript object>"
      ]
     },
     "metadata": {},
     "output_type": "display_data"
    },
    {
     "data": {
      "text/markdown": [
       "<span style=\"color:#33cc33\">Correct</span>"
      ],
      "text/plain": [
       "Correct"
      ]
     },
     "metadata": {},
     "output_type": "display_data"
    }
   ],
   "source": [
    "sorted_varieties = price_extremes.sort_values(by= ['min', 'max'], ascending= False)\n",
    "\n",
    "# Check your answer\n",
    "q4.check()"
   ]
  },
  {
   "cell_type": "code",
   "execution_count": 10,
   "id": "653a1283",
   "metadata": {
    "execution": {
     "iopub.execute_input": "2025-04-19T19:45:41.504542Z",
     "iopub.status.busy": "2025-04-19T19:45:41.504113Z",
     "iopub.status.idle": "2025-04-19T19:45:41.508691Z",
     "shell.execute_reply": "2025-04-19T19:45:41.507767Z"
    },
    "papermill": {
     "duration": 0.012929,
     "end_time": "2025-04-19T19:45:41.510393",
     "exception": false,
     "start_time": "2025-04-19T19:45:41.497464",
     "status": "completed"
    },
    "tags": []
   },
   "outputs": [],
   "source": [
    "#q4.hint()\n",
    "#q4.solution()"
   ]
  },
  {
   "cell_type": "markdown",
   "id": "2fd0f915",
   "metadata": {
    "papermill": {
     "duration": 0.005719,
     "end_time": "2025-04-19T19:45:41.521678",
     "exception": false,
     "start_time": "2025-04-19T19:45:41.515959",
     "status": "completed"
    },
    "tags": []
   },
   "source": [
    "## 5.\n",
    "Create a `Series` whose index is reviewers and whose values is the average review score given out by that reviewer. Hint: you will need the `taster_name` and `points` columns."
   ]
  },
  {
   "cell_type": "code",
   "execution_count": 11,
   "id": "68943627",
   "metadata": {
    "execution": {
     "iopub.execute_input": "2025-04-19T19:45:41.533963Z",
     "iopub.status.busy": "2025-04-19T19:45:41.533620Z",
     "iopub.status.idle": "2025-04-19T19:45:41.554979Z",
     "shell.execute_reply": "2025-04-19T19:45:41.554111Z"
    },
    "papermill": {
     "duration": 0.02977,
     "end_time": "2025-04-19T19:45:41.556909",
     "exception": false,
     "start_time": "2025-04-19T19:45:41.527139",
     "status": "completed"
    },
    "tags": []
   },
   "outputs": [
    {
     "data": {
      "application/javascript": [
       "parent.postMessage({\"jupyterEvent\": \"custom.exercise_interaction\", \"data\": {\"outcomeType\": 1, \"valueTowardsCompletion\": 0.16666666666666666, \"interactionType\": 1, \"questionType\": 1, \"questionId\": \"5_ReviewerMeanRatings\", \"learnToolsVersion\": \"0.3.5\", \"failureMessage\": \"\", \"exceptionClass\": \"\", \"trace\": \"\"}}, \"*\")"
      ],
      "text/plain": [
       "<IPython.core.display.Javascript object>"
      ]
     },
     "metadata": {},
     "output_type": "display_data"
    },
    {
     "data": {
      "text/markdown": [
       "<span style=\"color:#33cc33\">Correct</span>"
      ],
      "text/plain": [
       "Correct"
      ]
     },
     "metadata": {},
     "output_type": "display_data"
    }
   ],
   "source": [
    "reviewer_mean_ratings = reviews.groupby('taster_name').points.mean()\n",
    "\n",
    "# Check your answer\n",
    "q5.check()"
   ]
  },
  {
   "cell_type": "code",
   "execution_count": 12,
   "id": "1c3631b4",
   "metadata": {
    "execution": {
     "iopub.execute_input": "2025-04-19T19:45:41.570291Z",
     "iopub.status.busy": "2025-04-19T19:45:41.569942Z",
     "iopub.status.idle": "2025-04-19T19:45:41.574432Z",
     "shell.execute_reply": "2025-04-19T19:45:41.573478Z"
    },
    "papermill": {
     "duration": 0.013148,
     "end_time": "2025-04-19T19:45:41.576089",
     "exception": false,
     "start_time": "2025-04-19T19:45:41.562941",
     "status": "completed"
    },
    "tags": []
   },
   "outputs": [],
   "source": [
    "#q5.hint()\n",
    "#q5.solution()"
   ]
  },
  {
   "cell_type": "markdown",
   "id": "f7156941",
   "metadata": {
    "papermill": {
     "duration": 0.005479,
     "end_time": "2025-04-19T19:45:41.587681",
     "exception": false,
     "start_time": "2025-04-19T19:45:41.582202",
     "status": "completed"
    },
    "tags": []
   },
   "source": [
    "Are there significant differences in the average scores assigned by the various reviewers? Run the cell below to use the `describe()` method to see a summary of the range of values."
   ]
  },
  {
   "cell_type": "code",
   "execution_count": 13,
   "id": "33ed4a8e",
   "metadata": {
    "execution": {
     "iopub.execute_input": "2025-04-19T19:45:41.600488Z",
     "iopub.status.busy": "2025-04-19T19:45:41.600150Z",
     "iopub.status.idle": "2025-04-19T19:45:41.612841Z",
     "shell.execute_reply": "2025-04-19T19:45:41.611869Z"
    },
    "papermill": {
     "duration": 0.021209,
     "end_time": "2025-04-19T19:45:41.614652",
     "exception": false,
     "start_time": "2025-04-19T19:45:41.593443",
     "status": "completed"
    },
    "tags": []
   },
   "outputs": [
    {
     "data": {
      "text/plain": [
       "count    19.000000\n",
       "mean     88.233026\n",
       "std       1.243610\n",
       "min      85.855422\n",
       "25%      87.323501\n",
       "50%      88.536235\n",
       "75%      88.975256\n",
       "max      90.562551\n",
       "Name: points, dtype: float64"
      ]
     },
     "execution_count": 13,
     "metadata": {},
     "output_type": "execute_result"
    }
   ],
   "source": [
    "reviewer_mean_ratings.describe()"
   ]
  },
  {
   "cell_type": "markdown",
   "id": "76d29e1a",
   "metadata": {
    "papermill": {
     "duration": 0.00561,
     "end_time": "2025-04-19T19:45:41.626390",
     "exception": false,
     "start_time": "2025-04-19T19:45:41.620780",
     "status": "completed"
    },
    "tags": []
   },
   "source": [
    "## 6.\n",
    "What combination of countries and varieties are most common? Create a `Series` whose index is a `MultiIndex`of `{country, variety}` pairs. For example, a pinot noir produced in the US should map to `{\"US\", \"Pinot Noir\"}`. Sort the values in the `Series` in descending order based on wine count."
   ]
  },
  {
   "cell_type": "code",
   "execution_count": 14,
   "id": "bfad27fe",
   "metadata": {
    "execution": {
     "iopub.execute_input": "2025-04-19T19:45:41.639144Z",
     "iopub.status.busy": "2025-04-19T19:45:41.638817Z",
     "iopub.status.idle": "2025-04-19T19:45:41.676321Z",
     "shell.execute_reply": "2025-04-19T19:45:41.675274Z"
    },
    "papermill": {
     "duration": 0.046025,
     "end_time": "2025-04-19T19:45:41.678073",
     "exception": false,
     "start_time": "2025-04-19T19:45:41.632048",
     "status": "completed"
    },
    "tags": []
   },
   "outputs": [
    {
     "data": {
      "application/javascript": [
       "parent.postMessage({\"jupyterEvent\": \"custom.exercise_interaction\", \"data\": {\"outcomeType\": 1, \"valueTowardsCompletion\": 0.16666666666666666, \"interactionType\": 1, \"questionType\": 1, \"questionId\": \"6_GroupbyCountryVariety\", \"learnToolsVersion\": \"0.3.5\", \"failureMessage\": \"\", \"exceptionClass\": \"\", \"trace\": \"\"}}, \"*\")"
      ],
      "text/plain": [
       "<IPython.core.display.Javascript object>"
      ]
     },
     "metadata": {},
     "output_type": "display_data"
    },
    {
     "data": {
      "text/markdown": [
       "<span style=\"color:#33cc33\">Correct</span>"
      ],
      "text/plain": [
       "Correct"
      ]
     },
     "metadata": {},
     "output_type": "display_data"
    }
   ],
   "source": [
    "country_variety_counts = reviews.groupby(['country', 'variety']).size().sort_values(ascending= False)\n",
    "\n",
    "# Check your answer\n",
    "q6.check()"
   ]
  },
  {
   "cell_type": "code",
   "execution_count": 15,
   "id": "b4b26fe7",
   "metadata": {
    "execution": {
     "iopub.execute_input": "2025-04-19T19:45:41.691995Z",
     "iopub.status.busy": "2025-04-19T19:45:41.691660Z",
     "iopub.status.idle": "2025-04-19T19:45:41.696362Z",
     "shell.execute_reply": "2025-04-19T19:45:41.695272Z"
    },
    "papermill": {
     "duration": 0.013675,
     "end_time": "2025-04-19T19:45:41.698022",
     "exception": false,
     "start_time": "2025-04-19T19:45:41.684347",
     "status": "completed"
    },
    "tags": []
   },
   "outputs": [],
   "source": [
    "#q6.hint()\n",
    "#q6.solution()"
   ]
  },
  {
   "cell_type": "markdown",
   "id": "647847de",
   "metadata": {
    "papermill": {
     "duration": 0.005754,
     "end_time": "2025-04-19T19:45:41.710057",
     "exception": false,
     "start_time": "2025-04-19T19:45:41.704303",
     "status": "completed"
    },
    "tags": []
   },
   "source": [
    "# Keep going\n",
    "\n",
    "Move on to the [**data types and missing data**](https://www.kaggle.com/residentmario/data-types-and-missing-values)."
   ]
  },
  {
   "cell_type": "markdown",
   "id": "a7506a16",
   "metadata": {
    "papermill": {
     "duration": 0.005537,
     "end_time": "2025-04-19T19:45:41.721453",
     "exception": false,
     "start_time": "2025-04-19T19:45:41.715916",
     "status": "completed"
    },
    "tags": []
   },
   "source": [
    "---\n",
    "\n",
    "\n",
    "\n",
    "\n",
    "*Have questions or comments? Visit the [course discussion forum](https://www.kaggle.com/learn/pandas/discussion) to chat with other learners.*"
   ]
  }
 ],
 "metadata": {
  "kaggle": {
   "accelerator": "none",
   "dataSources": [
    {
     "datasetId": 655,
     "sourceId": 1252,
     "sourceType": "datasetVersion"
    },
    {
     "datasetId": 2321,
     "sourceId": 3919,
     "sourceType": "datasetVersion"
    },
    {
     "datasetId": 2894,
     "sourceId": 4877,
     "sourceType": "datasetVersion"
    },
    {
     "datasetId": 3491,
     "sourceId": 5624,
     "sourceType": "datasetVersion"
    },
    {
     "datasetId": 1442,
     "sourceId": 8172,
     "sourceType": "datasetVersion"
    },
    {
     "datasetId": 9366,
     "sourceId": 13206,
     "sourceType": "datasetVersion"
    },
    {
     "datasetId": 179555,
     "sourceId": 403916,
     "sourceType": "datasetVersion"
    },
    {
     "datasetId": 4549,
     "sourceId": 466349,
     "sourceType": "datasetVersion"
    },
    {
     "datasetId": 2478,
     "sourceId": 1151655,
     "sourceType": "datasetVersion"
    },
    {
     "datasetId": 10128,
     "sourceId": 5438389,
     "sourceType": "datasetVersion"
    }
   ],
   "isGpuEnabled": false,
   "isInternetEnabled": false,
   "language": "python",
   "sourceType": "notebook"
  },
  "kernelspec": {
   "display_name": "Python 3",
   "language": "python",
   "name": "python3"
  },
  "language_info": {
   "codemirror_mode": {
    "name": "ipython",
    "version": 3
   },
   "file_extension": ".py",
   "mimetype": "text/x-python",
   "name": "python",
   "nbconvert_exporter": "python",
   "pygments_lexer": "ipython3",
   "version": "3.11.11"
  },
  "papermill": {
   "default_parameters": {},
   "duration": 12.003547,
   "end_time": "2025-04-19T19:45:42.549070",
   "environment_variables": {},
   "exception": null,
   "input_path": "__notebook__.ipynb",
   "output_path": "__notebook__.ipynb",
   "parameters": {},
   "start_time": "2025-04-19T19:45:30.545523",
   "version": "2.6.0"
  }
 },
 "nbformat": 4,
 "nbformat_minor": 5
}
